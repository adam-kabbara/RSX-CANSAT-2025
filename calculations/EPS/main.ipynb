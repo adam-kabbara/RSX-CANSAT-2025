{
 "cells": [
  {
   "cell_type": "code",
   "execution_count": 11,
   "metadata": {},
   "outputs": [],
   "source": [
    "def c_min(i_out, i_in, dc, freq, v_max):\n",
    "    return (i_out * dc + (1-dc) * 1000) / (freq * v_max)\n",
    "\n",
    "def get_dc(v_out, v_in, n):\n",
    "    return v_out / (v_in * n)"
   ]
  },
  {
   "cell_type": "code",
   "execution_count": 12,
   "metadata": {},
   "outputs": [],
   "source": [
    "feq = 150 * 1000\n"
   ]
  },
  {
   "cell_type": "code",
   "execution_count": null,
   "metadata": {},
   "outputs": [
    {
     "name": "stdout",
     "output_type": "stream",
     "text": [
      "Inductor DC current: 0.33068783068783064\n",
      "Inductor ripple current: 1.9444444444444446\n",
      "Inductor peak to peak current: 1.302910052910053\n",
      "Capacitor value: 0.746192893401015 uF\n"
     ]
    }
   ],
   "source": [
    "# TPS inductor calcs\n",
    "def get_inductor_dc_cur(v_out, i_out, v_in, n):\n",
    "    return (v_out * i_out) / (v_in * n)\n",
    "\n",
    "def get_inductor_ripple_cur(v_out, duty_cycle, freq, l):\n",
    "    return (v_out * duty_cycle) / (freq * l)\n",
    "\n",
    "def get_duty_cycle(v_out, v_in, n):\n",
    "    return v_in / (v_out * n)\n",
    "\n",
    "def get_inductor_peak_cur(inductor_dc_curr, inductor_ripple_curr):\n",
    "    return inductor_dc_curr + inductor_ripple_curr/2\n",
    "\n",
    "n = 0.9\n",
    "freq = 2.4*10**6\n",
    "v_in = 4.2 # worst case scenario\n",
    "v_out = 5.0\n",
    "i_out = 0.250 # worst case scenario\n",
    "l = 1*10**-6\n",
    "\n",
    "ind_dc = get_inductor_dc_cur(v_out, i_out, v_in, n)\n",
    "duty = get_duty_cycle(v_out, v_in, n)\n",
    "ind_rip = get_inductor_ripple_cur(v_out, duty, freq, l)\n",
    "ind_peak = get_inductor_peak_cur(ind_dc, ind_rip)\n",
    "print(f\"Inductor DC current: {ind_dc}\")\n",
    "print(f\"Inductor ripple current: {ind_rip}\")\n",
    "print(f\"Inductor peak to peak current: {ind_peak}\")\n",
    "\n",
    "# current saturation of inductor must be greater than peak to peak current\n",
    "# https://www.we-online.com/components/products/datasheet/74404043010A.pdf\n",
    "\n",
    "# chose capacitor to deal with the ripple current\n",
    "def get_cap(i_out, duty_cycle, freq, v_ripple):\n",
    "    return i_out * duty_cycle / (freq * v_ripple)\n",
    "\n",
    "def get_v_ripple(i_peak, resistance):\n",
    "    return i_peak * resistance\n",
    "\n",
    "i_peak = ind_peak\n",
    "resistance = 0.1\n",
    "v_ripple = get_v_ripple(i_peak, resistance)\n",
    "cap = get_cap(i_out, duty, freq, v_ripple)\n",
    "print(f\"min capacitor value: {cap*10**6} uF\")"
   ]
  }
 ],
 "metadata": {
  "kernelspec": {
   "display_name": "base",
   "language": "python",
   "name": "python3"
  },
  "language_info": {
   "codemirror_mode": {
    "name": "ipython",
    "version": 3
   },
   "file_extension": ".py",
   "mimetype": "text/x-python",
   "name": "python",
   "nbconvert_exporter": "python",
   "pygments_lexer": "ipython3",
   "version": "3.11.5"
  }
 },
 "nbformat": 4,
 "nbformat_minor": 2
}
